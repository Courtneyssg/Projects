{
 "cells": [
  {
   "cell_type": "markdown",
   "id": "26d4a8f2",
   "metadata": {},
   "source": [
    "# <center><font color='DarkSalmon'>Assignment Six</font></center>\n",
    "### <center><font color='Salmon'>Computer Science 4304</font></center>\n",
    "<center><font color ='LightSalmon'>Courtney St. George <br> 200917250 <br></font></center> "
   ]
  },
  {
   "cell_type": "markdown",
   "id": "e363adf2",
   "metadata": {},
   "source": [
    "This notebook uses the phds_country.csv dataset and contains information about PhD equality amongst genders across the world.\n",
    "\n",
    "Computations are completed using the dataset provided to visualize the following:\n",
    "- An interative visualization that contains the number of male and female PhD graduates by country. The visualization displays the number of male and female PhD graduates from countries throughout the world, to illustrate the gaps of Ph.D.s awarded to men and women. "
   ]
  },
  {
   "cell_type": "markdown",
   "id": "816a8700",
   "metadata": {},
   "source": [
    "import pandas, matplotlib, seaborn, and ipywidgets"
   ]
  },
  {
   "cell_type": "code",
   "execution_count": 11,
   "id": "a5d9969f",
   "metadata": {},
   "outputs": [],
   "source": [
    "import pandas as pd\n",
    "import matplotlib.pyplot as plt\n",
    "import seaborn as sns\n",
    "import ipywidgets as widgets\n",
    "from ipywidgets import interact, interact_manual"
   ]
  },
  {
   "cell_type": "markdown",
   "id": "18b23ad4",
   "metadata": {},
   "source": [
    "Import data"
   ]
  },
  {
   "cell_type": "code",
   "execution_count": 12,
   "id": "37862308",
   "metadata": {},
   "outputs": [],
   "source": [
    "df_master = pd.read_csv('phds_country.csv')"
   ]
  },
  {
   "cell_type": "markdown",
   "id": "f94804ed",
   "metadata": {},
   "source": [
    "List to use for dropdown menu and to clean up dataframe with"
   ]
  },
  {
   "cell_type": "code",
   "execution_count": 13,
   "id": "9440bef5",
   "metadata": {},
   "outputs": [],
   "source": [
    "params = ['All Ph.D.s', 'Non-Science Ph.D.s', 'All Science & Engineering', 'Agricultural', 'Engineering',\n",
    "          'Math & Computer Science','Physical & Biological', 'Social & Behavioral']"
   ]
  },
  {
   "cell_type": "markdown",
   "id": "3106b8f0",
   "metadata": {},
   "source": [
    "- Create a copy of master and reorder columns to match order in params list\n",
    "- Rename the columns using params list\n",
    "- Use convertPercent function to iterate through dataframe columns and create additional columns that contain percentage of males and females"
   ]
  },
  {
   "cell_type": "code",
   "execution_count": 14,
   "id": "1aa91cc3",
   "metadata": {},
   "outputs": [],
   "source": [
    "df = df_master.copy()\n",
    "dfcols = df.columns.tolist()\n",
    "new = dfcols[:4] + dfcols[16:18] + dfcols[4:6] + dfcols[10:12] + dfcols[14:16] + dfcols[8:10] + dfcols[6:8] + dfcols[12:14]\n",
    "df = df[new].reset_index(drop=True)\n",
    "ind = 0\n",
    "\n",
    "df = df.rename(columns={'All Fields - Female': params[0] + \" F\", 'All Fields - Male': params[0] + \" M\",\n",
    "                       'Non-S&E - Female': params[1] + \" F\", 'Non-S&E - Male': params[1] + \" M\",\n",
    "                        'All S&E - Female': params[2] + \" F\", 'All S&E - Male': params[2] + \" M\",\n",
    "                       'Agricultural Sciences - Female': params[3] + \" F\", 'Agricultural Sciences - Male': params[3] + \" M\",\n",
    "                       'Engineering - Female': params[4] + \" F\", 'Engineering - Male': params[4] + \" M\",\n",
    "                       'Mathematics & Computer Sciences - Female': params[5] + \" F\", 'Mathematics & Computer Sciences - Male': params[5] + \" M\",\n",
    "                       'Physical & Biological Sciences - Female' : params[6] + \" F\", \"Physical & Biological Sciences - Male\": params[6] + \" M\",\n",
    "                       'Social & Behavioral Sciences - Female': params[7] + \" F\", \"Social & Behavioral Sciences - Male\": params[7] + \" M\",})\n",
    "\n",
    "def convertPercent(colf, colm, p):\n",
    "    df[colf + ' %'] = round((df[colf] / (df[colf] + df[colm]))*100, 2)\n",
    "    df[colm + ' %'] = 100 - df[colf + ' %']\n",
    "    \n",
    "for i in range(2, len(df.columns), 2):\n",
    "    convertPercent(df.columns[i], df.columns[i+1], params[ind])\n",
    "    ind += 1"
   ]
  },
  {
   "cell_type": "markdown",
   "id": "6820e387",
   "metadata": {},
   "source": [
    "- Interactive plot created, phd is the dropdown box that contains all the values from the params list. Male, Female, and allphd are checkboxes used to toggle plotting of the male points, female points, and the outline of all phds in grey. Filters contains two toggle buttons that sorts the data by ascending percentage of females, or by region.\n",
    "- dft holds the values sorted based on the sorting selected\n",
    "- sizes are set for female and male, as well as the sizes for the allphd male and allphd female options which outline the points in grey if selected. Minimum size is set to 5, maximum size is obtained by using .max() on the relevant column. A division by 30 to normalize values appeared to yield the closest size based off of the example.\n",
    "- If the phd checkbox is selected and allphd and male is true, or if allphd and female is true, we add the grey phd points to outline the male and female points. If the male or female check boxes are disabled, the grey outline is also disabled. \n",
    "- If male or female checkboxes are true the relevant points are plotted. Female is shown in teal, male in orange. \n",
    "- ylim and xlim are set for the x and y axis to adjust the limits and spacing\n",
    "- xticks and xticks_label were added to keep the dimensions and labels of the xaxis, even if the points are disabled\n",
    "- yticks were set for y axis and xlabels are rotated vertically\n",
    "- A title, x label, and y label were added"
   ]
  },
  {
   "cell_type": "code",
   "execution_count": 15,
   "id": "018ba1ef",
   "metadata": {
    "scrolled": false
   },
   "outputs": [
    {
     "data": {
      "application/vnd.jupyter.widget-view+json": {
       "model_id": "6f80bd4ad68c4bfbb928ac00a1275e8a",
       "version_major": 2,
       "version_minor": 0
      },
      "text/plain": [
       "interactive(children=(Dropdown(description='Y-axis:', options=('All Ph.D.s', 'Non-Science Ph.D.s', 'All Scienc…"
      ]
     },
     "metadata": {},
     "output_type": "display_data"
    }
   ],
   "source": [
    "df = df.fillna(0)\n",
    "@interact(phd= widgets.Dropdown(options=params, value=params[0], description='Y-axis:'), \n",
    "          Female = True, Male = True,\n",
    "          allphd = widgets.Checkbox(value=False, description=\"All Ph.D.s\", ),\n",
    "          filters = widgets.ToggleButtons(options=['Ascending % of Females', 'Region'], description='Order By: '))\n",
    "\n",
    "def f(phd, Female, Male, allphd, filters):\n",
    "    fig, ax = plt.subplots(figsize=(17,7))\n",
    "    dft = df.copy()\n",
    "    dft = df.sort_values(by=(phd + ' F %'), ascending=True)\n",
    "    if filters == 'Region':\n",
    "        dft = df.sort_values(by=[('Region'), (phd + ' F %')])\n",
    "    \n",
    "    female_sizes = (5, dft[phd + ' F'].max()/30)\n",
    "    male_sizes = (5, dft[phd + ' M'].max()/30)\n",
    "    allphd_fsizes = (5, dft['All Ph.D.s F'].max()/30)\n",
    "    allphd_msizes = (5, dft['All Ph.D.s M'].max()/30)\n",
    "    \n",
    "    if allphd and Male:\n",
    "        ax = sns.scatterplot(x='Country', y=(phd + ' M %'), data=dft, size=(dft['All Ph.D.s M']), sizes=allphd_msizes, color='#cccccc', ax=ax)\n",
    "    if allphd and Female:\n",
    "        ax = sns.scatterplot(x='Country', y=(phd + ' F %'), data=dft, size=(dft['All Ph.D.s F']), sizes=allphd_fsizes, color='#cccccc', ax=ax)\n",
    "    if Male:\n",
    "        ax = sns.scatterplot(x='Country', y=(phd + ' M %'), data=dft, size=(phd + ' M'), sizes=male_sizes, color='#ff7b00', ax=ax)\n",
    "        ax.legend().set_visible(False)\n",
    "    if Female:\n",
    "        ax = sns.scatterplot(x='Country', y=(phd + ' F %'), data=dft, size=(phd + ' F'), sizes=female_sizes, color='#31d3be', ax=ax)\n",
    "        ax.legend().set_visible(False)\n",
    "    \n",
    "    #cleanup\n",
    "    ax.set_ylim(0, 100)\n",
    "    ax.set_xlim(-0.5, 55.5)\n",
    "    ax.set_xticks(range(0, 56))\n",
    "    ax.set_xticklabels(dft['Country'])\n",
    "    ax.tick_params(axis='x', rotation = 90)\n",
    "    ax.set_yticks([0, 10, 20, 30, 40, 50, 60, 70, 80, 90, 100])\n",
    "    ax.set_title('Global Ph.D.s Gender Gap(2010)', fontsize=16)\n",
    "    ax.set_ylabel('PERCENT OF TOTAL')\n",
    "    ax.set_xlabel('COUNTRY')"
   ]
  },
  {
   "cell_type": "code",
   "execution_count": null,
   "id": "ecd654d5",
   "metadata": {},
   "outputs": [],
   "source": []
  },
  {
   "cell_type": "code",
   "execution_count": null,
   "id": "00638fc0",
   "metadata": {},
   "outputs": [],
   "source": []
  },
  {
   "cell_type": "code",
   "execution_count": null,
   "id": "fe082957",
   "metadata": {},
   "outputs": [],
   "source": []
  },
  {
   "cell_type": "code",
   "execution_count": null,
   "id": "adf56bd9",
   "metadata": {},
   "outputs": [],
   "source": []
  }
 ],
 "metadata": {
  "kernelspec": {
   "display_name": "Python 3 (ipykernel)",
   "language": "python",
   "name": "python3"
  },
  "language_info": {
   "codemirror_mode": {
    "name": "ipython",
    "version": 3
   },
   "file_extension": ".py",
   "mimetype": "text/x-python",
   "name": "python",
   "nbconvert_exporter": "python",
   "pygments_lexer": "ipython3",
   "version": "3.9.7"
  }
 },
 "nbformat": 4,
 "nbformat_minor": 5
}
